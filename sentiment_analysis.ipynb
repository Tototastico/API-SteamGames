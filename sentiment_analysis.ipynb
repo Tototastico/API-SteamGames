{
 "cells": [
  {
   "cell_type": "markdown",
   "metadata": {},
   "source": [
    "<div style=\"text-align: center;\">\n",
    "  <h1>Analisis de sentimiento de reseñas</h1>\n",
    "</div>"
   ]
  },
  {
   "cell_type": "code",
   "execution_count": 1,
   "metadata": {},
   "outputs": [
    {
     "name": "stderr",
     "output_type": "stream",
     "text": [
      "[nltk_data] Downloading package punkt to\n",
      "[nltk_data]     C:\\Users\\pc\\AppData\\Roaming\\nltk_data...\n",
      "[nltk_data]   Package punkt is already up-to-date!\n",
      "[nltk_data] Downloading package stopwords to\n",
      "[nltk_data]     C:\\Users\\pc\\AppData\\Roaming\\nltk_data...\n",
      "[nltk_data]   Package stopwords is already up-to-date!\n",
      "[nltk_data] Downloading package vader_lexicon to\n",
      "[nltk_data]     C:\\Users\\pc\\AppData\\Roaming\\nltk_data...\n",
      "[nltk_data]   Package vader_lexicon is already up-to-date!\n"
     ]
    },
    {
     "data": {
      "text/plain": [
       "True"
      ]
     },
     "execution_count": 1,
     "metadata": {},
     "output_type": "execute_result"
    }
   ],
   "source": [
    "import pandas as pd\n",
    "import nltk # Importamos nuestro bello nltk\n",
    "from vaderSentiment.vaderSentiment import SentimentIntensityAnalyzer # Este es el modelo que decidi utilizar\n",
    "from nltk.corpus import stopwords # Importamos las stopwords\n",
    "import re # Importamos re\n",
    "nltk.download('punkt') # Instalamos punkt\n",
    "nltk.download('stopwords') # Instalamos las stopwords\n",
    "nltk.download('vader_lexicon') # Y instalamos nuestro vader de analisis"
   ]
  },
  {
   "cell_type": "code",
   "execution_count": 2,
   "metadata": {},
   "outputs": [],
   "source": [
    "df_reviews = pd.read_parquet(r'data/clean_reviews.parquet.gzip') # Leemos nuestras reseñas"
   ]
  },
  {
   "cell_type": "code",
   "execution_count": 3,
   "metadata": {},
   "outputs": [],
   "source": [
    "# Definir la función de tokenización y eliminacion de stopwords\n",
    "def tokenizacion(x):\n",
    "    if isinstance(x, str):\n",
    "        # Stopwords\n",
    "        stopwords_list = stopwords.words('english')\n",
    "        stopwords_list = [word for word in stopwords_list if 'not' not in word]\n",
    "\n",
    "        # Tokenización y eliminación de stopwords\n",
    "        tokens = nltk.tokenize.word_tokenize(x)\n",
    "        tokens = [word for word in tokens if word.lower() not in stopwords_list]\n",
    "\n",
    "        return ' '.join(tokens)\n",
    "        #return tokens\n",
    "    else:\n",
    "        return x  # Devuelve tal cual si no es una cadena"
   ]
  },
  {
   "cell_type": "code",
   "execution_count": 4,
   "metadata": {},
   "outputs": [],
   "source": [
    "df_reviews['review'] = df_reviews['review'].apply(lambda x: tokenizacion(x)) # Aplicamos la funcion a nuestra columna reviews"
   ]
  },
  {
   "cell_type": "code",
   "execution_count": 5,
   "metadata": {},
   "outputs": [],
   "source": [
    "# Creamos una funcion que elimina caracteres repetidos, ya que encontre\n",
    "# reseñas tipo: \"Nooooooooooooooooo\" y las transforme a \"Noo\"\n",
    "\n",
    "def eliminar_caracteres_repetidos(text):\n",
    "    # Definir una expresión regular para encontrar caracteres repetidos más de 2 veces con re\n",
    "    pattern = re.compile(r'(.)\\1{2,}', re.DOTALL)\n",
    "    # Reemplazar caracteres repetidos con dos instancias del mismo caracter\n",
    "    text_limpio = pattern.sub(r'\\1\\1', text)\n",
    "    return text_limpio\n",
    "df_reviews['review'] = df_reviews['review'].apply(lambda x: eliminar_caracteres_repetidos(x)) # Aplicamos nuestra funcion de transformacion"
   ]
  },
  {
   "cell_type": "code",
   "execution_count": 6,
   "metadata": {},
   "outputs": [],
   "source": [
    "# Instanciamos el SentimentIntensityAnalyzer\n",
    "sid = SentimentIntensityAnalyzer()\n",
    "\n",
    "# Función para realizar análisis de sentimiento de las reseñas y asignar valor según escala.\n",
    "# 0: Negativa ; 1: Neutra ; 2: Positiva\n",
    "\n",
    "def analyze_sentiment(text):\n",
    "    if pd.isnull(text) or text == '':\n",
    "        return 1 # Si la reseña es nula se toma como neutra\n",
    "    p_scores = sid.polarity_scores(text)\n",
    "    sentiment = p_scores.get('compound') # Utilizamos el compound en vez de los valores independientes\n",
    "    if sentiment > 0:\n",
    "        return 2\n",
    "    if sentiment < 0:\n",
    "        return 0\n",
    "    else:\n",
    "        return 1\n",
    "\n",
    "\n",
    "# Aplicar la función a la columna 'review' y cree la columna 'sentiment_analysis'\n",
    "df_reviews['sentiment_analysis'] = df_reviews['review'].apply(analyze_sentiment)\n"
   ]
  },
  {
   "cell_type": "code",
   "execution_count": 7,
   "metadata": {},
   "outputs": [
    {
     "data": {
      "text/html": [
       "<div>\n",
       "<style scoped>\n",
       "    .dataframe tbody tr th:only-of-type {\n",
       "        vertical-align: middle;\n",
       "    }\n",
       "\n",
       "    .dataframe tbody tr th {\n",
       "        vertical-align: top;\n",
       "    }\n",
       "\n",
       "    .dataframe thead th {\n",
       "        text-align: right;\n",
       "    }\n",
       "</style>\n",
       "<table border=\"1\" class=\"dataframe\">\n",
       "  <thead>\n",
       "    <tr style=\"text-align: right;\">\n",
       "      <th></th>\n",
       "      <th>review</th>\n",
       "      <th>sentiment_analysis</th>\n",
       "    </tr>\n",
       "  </thead>\n",
       "  <tbody>\n",
       "    <tr>\n",
       "      <th>0</th>\n",
       "      <td>simple yet great replayability opinion zombie ...</td>\n",
       "      <td>2</td>\n",
       "    </tr>\n",
       "    <tr>\n",
       "      <th>1</th>\n",
       "      <td>unique worth playthrough</td>\n",
       "      <td>2</td>\n",
       "    </tr>\n",
       "    <tr>\n",
       "      <th>2</th>\n",
       "      <td>great atmosphere gunplay bit chunky times end ...</td>\n",
       "      <td>2</td>\n",
       "    </tr>\n",
       "    <tr>\n",
       "      <th>3</th>\n",
       "      <td>know think see title barbie dreamhouse party n...</td>\n",
       "      <td>2</td>\n",
       "    </tr>\n",
       "    <tr>\n",
       "      <th>4</th>\n",
       "      <td>simple actually not simple truck driving simul...</td>\n",
       "      <td>2</td>\n",
       "    </tr>\n",
       "  </tbody>\n",
       "</table>\n",
       "</div>"
      ],
      "text/plain": [
       "                                              review  sentiment_analysis\n",
       "0  simple yet great replayability opinion zombie ...                   2\n",
       "1                           unique worth playthrough                   2\n",
       "2  great atmosphere gunplay bit chunky times end ...                   2\n",
       "3  know think see title barbie dreamhouse party n...                   2\n",
       "4  simple actually not simple truck driving simul...                   2"
      ]
     },
     "execution_count": 7,
     "metadata": {},
     "output_type": "execute_result"
    }
   ],
   "source": [
    "df_reviews[['review', 'sentiment_analysis']].head(5) # Mostramos un ejemplo de nuestras reseñas\n",
    "                                                     # Para ver como trabajo el modelo"
   ]
  },
  {
   "cell_type": "code",
   "execution_count": 8,
   "metadata": {},
   "outputs": [
    {
     "data": {
      "text/html": [
       "<div>\n",
       "<style scoped>\n",
       "    .dataframe tbody tr th:only-of-type {\n",
       "        vertical-align: middle;\n",
       "    }\n",
       "\n",
       "    .dataframe tbody tr th {\n",
       "        vertical-align: top;\n",
       "    }\n",
       "\n",
       "    .dataframe thead th {\n",
       "        text-align: right;\n",
       "    }\n",
       "</style>\n",
       "<table border=\"1\" class=\"dataframe\">\n",
       "  <thead>\n",
       "    <tr style=\"text-align: right;\">\n",
       "      <th></th>\n",
       "      <th>review</th>\n",
       "      <th>sentiment_analysis</th>\n",
       "    </tr>\n",
       "  </thead>\n",
       "  <tbody>\n",
       "    <tr>\n",
       "      <th>22</th>\n",
       "      <td>reminds tv show called walking dead</td>\n",
       "      <td>0</td>\n",
       "    </tr>\n",
       "    <tr>\n",
       "      <th>25</th>\n",
       "      <td>nt get game not like greatest fps time anythin...</td>\n",
       "      <td>0</td>\n",
       "    </tr>\n",
       "    <tr>\n",
       "      <th>26</th>\n",
       "      <td>killed emperor nobody cared got away accidenta...</td>\n",
       "      <td>0</td>\n",
       "    </tr>\n",
       "    <tr>\n",
       "      <th>38</th>\n",
       "      <td>compared left dead game really gives creeps ad...</td>\n",
       "      <td>0</td>\n",
       "    </tr>\n",
       "    <tr>\n",
       "      <th>39</th>\n",
       "      <td>wo nt regret playing</td>\n",
       "      <td>0</td>\n",
       "    </tr>\n",
       "    <tr>\n",
       "      <th>...</th>\n",
       "      <td>...</td>\n",
       "      <td>...</td>\n",
       "    </tr>\n",
       "    <tr>\n",
       "      <th>48461</th>\n",
       "      <td>death great teacher failure counterrecommended...</td>\n",
       "      <td>0</td>\n",
       "    </tr>\n",
       "    <tr>\n",
       "      <th>48463</th>\n",
       "      <td>portal great game created valve basically guin...</td>\n",
       "      <td>0</td>\n",
       "    </tr>\n",
       "    <tr>\n",
       "      <th>48471</th>\n",
       "      <td>lost skins getting hacked rip skins gaben giff...</td>\n",
       "      <td>0</td>\n",
       "    </tr>\n",
       "    <tr>\n",
       "      <th>48478</th>\n",
       "      <td>simply horrible always lag always gets frozen ...</td>\n",
       "      <td>0</td>\n",
       "    </tr>\n",
       "    <tr>\n",
       "      <th>48495</th>\n",
       "      <td>prettyy mad game</td>\n",
       "      <td>0</td>\n",
       "    </tr>\n",
       "  </tbody>\n",
       "</table>\n",
       "<p>6133 rows × 2 columns</p>\n",
       "</div>"
      ],
      "text/plain": [
       "                                                  review  sentiment_analysis\n",
       "22                   reminds tv show called walking dead                   0\n",
       "25     nt get game not like greatest fps time anythin...                   0\n",
       "26     killed emperor nobody cared got away accidenta...                   0\n",
       "38     compared left dead game really gives creeps ad...                   0\n",
       "39                                  wo nt regret playing                   0\n",
       "...                                                  ...                 ...\n",
       "48461  death great teacher failure counterrecommended...                   0\n",
       "48463  portal great game created valve basically guin...                   0\n",
       "48471  lost skins getting hacked rip skins gaben giff...                   0\n",
       "48478  simply horrible always lag always gets frozen ...                   0\n",
       "48495                                   prettyy mad game                   0\n",
       "\n",
       "[6133 rows x 2 columns]"
      ]
     },
     "execution_count": 8,
     "metadata": {},
     "output_type": "execute_result"
    }
   ],
   "source": [
    "df_reviews[df_reviews['sentiment_analysis']==0][['review', 'sentiment_analysis']]\n",
    "\n",
    "# Aca decidi visualizar las reseñas negativas para ver que tan preciso era el modelo"
   ]
  },
  {
   "cell_type": "markdown",
   "metadata": {},
   "source": [
    "Y me parecio que era muy preciso"
   ]
  },
  {
   "cell_type": "code",
   "execution_count": 9,
   "metadata": {},
   "outputs": [],
   "source": [
    "df_reviews.to_parquet(r'data/clean_reviews.parquet.gzip', compression='gzip') # Lo exportamos como el mismo archivo"
   ]
  }
 ],
 "metadata": {
  "kernelspec": {
   "display_name": "Python 3.11.4 64-bit",
   "language": "python",
   "name": "python3"
  },
  "language_info": {
   "codemirror_mode": {
    "name": "ipython",
    "version": 3
   },
   "file_extension": ".py",
   "mimetype": "text/x-python",
   "name": "python",
   "nbconvert_exporter": "python",
   "pygments_lexer": "ipython3",
   "version": "3.11.4"
  },
  "orig_nbformat": 4,
  "vscode": {
   "interpreter": {
    "hash": "c41022c0d23f6c5db1c4e6eb17917f8a280d54e3ca5542402e812230681ca5ba"
   }
  }
 },
 "nbformat": 4,
 "nbformat_minor": 2
}
