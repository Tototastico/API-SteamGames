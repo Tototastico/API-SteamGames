{
 "cells": [
  {
   "cell_type": "code",
   "execution_count": 5,
   "metadata": {},
   "outputs": [],
   "source": [
    "import pandas as pd\n",
    "items = pd.read_parquet('clean_items.parquet.gzip')\n",
    "items = items[['item_id', 'playtime_forever']]\n",
    "items.to_pickle('clean_items_genreFunction.pkl')\n",
    "games = pd.read_parquet('clean_games.parquet.gzip')\n",
    "games = games[['genres','id']]\n",
    "games.to_pickle('clean_games_genreFunction.pkl')"
   ]
  }
 ],
 "metadata": {
  "kernelspec": {
   "display_name": "Python 3",
   "language": "python",
   "name": "python3"
  },
  "language_info": {
   "codemirror_mode": {
    "name": "ipython",
    "version": 3
   },
   "file_extension": ".py",
   "mimetype": "text/x-python",
   "name": "python",
   "nbconvert_exporter": "python",
   "pygments_lexer": "ipython3",
   "version": "3.11.3"
  },
  "orig_nbformat": 4
 },
 "nbformat": 4,
 "nbformat_minor": 2
}
