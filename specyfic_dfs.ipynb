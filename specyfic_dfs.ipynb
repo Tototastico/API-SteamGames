{
 "cells": [
  {
   "cell_type": "code",
   "execution_count": 9,
   "metadata": {},
   "outputs": [],
   "source": [
    "import pandas as pd\n",
    "items = pd.read_parquet('clean_items.parquet.gzip')\n",
    "items = items.sample(frac=0.1, random_state=42)\n",
    "items.to_parquet('clean_items_functions.parquet.gzip', compression='gzip')\n",
    "\n",
    "games = pd.read_parquet('clean_games.parquet.gzip')\n",
    "games = games.sample(frac=0.1, random_state=42)\n",
    "games.to_parquet('clean_games_functions.parquet.gzip', compression='gzip')\n",
    "\n",
    "reviews = pd.read_parquet('clean_reviews.parquet.gzip')\n",
    "reviews = reviews.sample(frac=0.1, random_state=42)\n",
    "reviews.to_parquet('clean_reviews_functions.parquet.gzip', compression='gzip')"
   ]
  }
 ],
 "metadata": {
  "kernelspec": {
   "display_name": "Python 3",
   "language": "python",
   "name": "python3"
  },
  "language_info": {
   "codemirror_mode": {
    "name": "ipython",
    "version": 3
   },
   "file_extension": ".py",
   "mimetype": "text/x-python",
   "name": "python",
   "nbconvert_exporter": "python",
   "pygments_lexer": "ipython3",
   "version": "3.11.3"
  },
  "orig_nbformat": 4
 },
 "nbformat": 4,
 "nbformat_minor": 2
}
