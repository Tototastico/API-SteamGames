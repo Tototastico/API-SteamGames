{
 "cells": [
  {
   "cell_type": "code",
   "execution_count": 1,
   "metadata": {},
   "outputs": [],
   "source": [
    "from main import df_games\n",
    "import pandas as pd"
   ]
  },
  {
   "cell_type": "code",
   "execution_count": 10,
   "metadata": {},
   "outputs": [
    {
     "data": {
      "text/plain": [
       "genres\n",
       "Indie                        15858\n",
       "Action                       11321\n",
       "Casual                        8282\n",
       "Adventure                     8243\n",
       "Strategy                      6957\n",
       "Simulation                    6699\n",
       "RPG                           5479\n",
       "[]                            3283\n",
       "Free to Play                  2031\n",
       "Early Access                  1462\n",
       "Sports                        1257\n",
       "Massively Multiplayer         1108\n",
       "Racing                        1083\n",
       "Design &amp; Illustration      460\n",
       "Utilities                      340\n",
       "Web Publishing                 268\n",
       "Animation &amp; Modeling       183\n",
       "Education                      125\n",
       "Video Production               116\n",
       "Software Training              105\n",
       "Audio Production                93\n",
       "Photo Editing                   77\n",
       "Accounting                       7\n",
       "Name: count, dtype: int64"
      ]
     },
     "execution_count": 10,
     "metadata": {},
     "output_type": "execute_result"
    }
   ],
   "source": [
    "df_games['genres'].value_counts()"
   ]
  },
  {
   "cell_type": "code",
   "execution_count": 18,
   "metadata": {},
   "outputs": [
    {
     "name": "stdout",
     "output_type": "stream",
     "text": [
      "<class 'pandas.core.frame.DataFrame'>\n",
      "Index: 37078 entries, 0 to 32133\n",
      "Data columns (total 7 columns):\n",
      " #   Column        Non-Null Count  Dtype  \n",
      "---  ------        --------------  -----  \n",
      " 0   publisher     37078 non-null  object \n",
      " 1   genres        37078 non-null  object \n",
      " 2   app_name      37078 non-null  object \n",
      " 3   price         37078 non-null  float64\n",
      " 4   early_access  37078 non-null  int32  \n",
      " 5   id            37078 non-null  object \n",
      " 6   year          37078 non-null  object \n",
      "dtypes: float64(1), int32(1), object(5)\n",
      "memory usage: 2.1+ MB\n"
     ]
    }
   ],
   "source": [
    "generos_a_excluir = [\n",
    " 'Simulation',\n",
    " 'Strategy',\n",
    " 'Free to Play',\n",
    " 'RPG',\n",
    " 'Sports',\n",
    " '[]',\n",
    " 'Racing',\n",
    " 'Early Access',\n",
    " 'Massively Multiplayer',\n",
    " 'Animation &amp; Modeling',\n",
    " 'Video Production',\n",
    " 'Utilities',\n",
    " 'Web Publishing',\n",
    " 'Education',\n",
    " 'Software Training',\n",
    " 'Design &amp; Illustration',\n",
    " 'Audio Production',\n",
    " 'Photo Editing',\n",
    " 'Accounting']\n",
    "df_games2 = df_games\n",
    "for i in generos_a_excluir:\n",
    "    df_games2 = df_games2[df_games2['genres'] != i]\n",
    "df_games2.dropna(inplace=True)\n",
    "df_games2.info()"
   ]
  }
 ],
 "metadata": {
  "kernelspec": {
   "display_name": "venv",
   "language": "python",
   "name": "python3"
  },
  "language_info": {
   "codemirror_mode": {
    "name": "ipython",
    "version": 3
   },
   "file_extension": ".py",
   "mimetype": "text/x-python",
   "name": "python",
   "nbconvert_exporter": "python",
   "pygments_lexer": "ipython3",
   "version": "3.11.3"
  },
  "orig_nbformat": 4
 },
 "nbformat": 4,
 "nbformat_minor": 2
}
